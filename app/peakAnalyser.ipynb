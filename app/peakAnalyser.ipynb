{
 "cells": [
  {
   "cell_type": "code",
   "execution_count": 1,
   "id": "0982671c",
   "metadata": {},
   "outputs": [
    {
     "name": "stdout",
     "output_type": "stream",
     "text": [
      "[INFO] loaded data into memory for simulation\n"
     ]
    },
    {
     "name": "stderr",
     "output_type": "stream",
     "text": [
      "/Users/gurusai/programming/STONKS/BackTestingEngine/app/StockAnalyser.py:103: FutureWarning: The behavior of DataFrame concatenation with empty or all-NA entries is deprecated. In a future version, this will no longer exclude empty or all-NA columns when determining the result dtypes. To retain the old behavior, exclude the relevant entries before the concat operation.\n",
      "  self.ltpDf = pd.concat([self.ltpDf, pd.DataFrame(new_record)], ignore_index=True)\n"
     ]
    }
   ],
   "source": [
    "SIMULATION_DATE = \"2025-07-15\"\n",
    "\n",
    "from config import r,STOCKS,FILEPATH,s3,EXCHANGE\n",
    "import os\n",
    "def download_file():\n",
    "    if not os.path.exists(f'{FILEPATH}/{EXCHANGE}/{STOCKS[0]}/{SIMULATION_DATE}.csv'):\n",
    "        try:\n",
    "            s3.download_file(Bucket='kite', Key=f'{EXCHANGE}/{STOCKS[0]}/{SIMULATION_DATE}.csv', Filename=f'{FILEPATH}/{EXCHANGE}/{STOCKS[0]}/{SIMULATION_DATE}.csv')\n",
    "            print(f\"[MAIN] Downloaded {EXCHANGE}:{STOCKS[0]} for {SIMULATION_DATE}\")\n",
    "        except Exception as e:\n",
    "            raise Exception(\"file not found,choose another date.\")\n",
    "download_file()\n",
    "\n",
    "from simulator import get_all_tick_data\n",
    "df = get_all_tick_data(SIMULATION_DATE)\n",
    "\n",
    "from StockAnalyser import Cumulative_Support\n",
    "instance = Cumulative_Support()\n",
    "import pandas as pd\n",
    "for row in df.rolling(1):\n",
    "    instance.parse(row.iloc[0].to_dict())\n"
   ]
  },
  {
   "cell_type": "code",
   "execution_count": null,
   "id": "5c649ab6",
   "metadata": {},
   "outputs": [
    {
     "name": "stdout",
     "output_type": "stream",
     "text": [
      "peak ended at 2522,began at 2520,ltpvalue:7291.0\n",
      "peak ended at 2526,began at 2523,ltpvalue:7290.0\n",
      "peak ended at 3419,began at 3417,ltpvalue:7331.0\n",
      "peak ended at 3649,began at 3647,ltpvalue:7349.0\n",
      "peak ended at 3959,began at 3954,ltpvalue:7361.0\n",
      "peak ended at 4026,began at 4024,ltpvalue:7356.0\n",
      "peak ended at 4648,began at 4647,ltpvalue:7361.0\n"
     ]
    },
    {
     "data": {
      "text/plain": [
       "[(2522, np.float64(94.25328827071553)),\n",
       " (2526, np.float64(139.32525547011437)),\n",
       " (3419, np.float64(64.15984881541677)),\n",
       " (3649, np.float64(108.40590455329036)),\n",
       " (3959, np.float64(173.3675730695661)),\n",
       " (4026, np.float64(161.9989311544663)),\n",
       " (4648, np.float64(130.368150271231))]"
      ]
     },
     "execution_count": 2,
     "metadata": {},
     "output_type": "execute_result"
    }
   ],
   "source": [
    "import numpy as np\n",
    "\n",
    "df = instance.voldiff_sell\n",
    "def findPeaks(df):\n",
    "    df['diff'] = df[0]-df[0].shift(1)\n",
    "    ridingPeak = False\n",
    "    start=0\n",
    "    peaks = []\n",
    "    start_index = 0\n",
    "    for index in range(len(df['diff'])):\n",
    "        diff = df['diff'].loc[index]\n",
    "        if diff>10 and not ridingPeak:\n",
    "            ridingPeak=True\n",
    "            start = df[0].loc[index-1]\n",
    "            start_index = index\n",
    "            continue\n",
    "        if diff<0 and ridingPeak:\n",
    "            if df[0].loc[index]-start >40:\n",
    "                print(f'peak ended at {index},began at {start_index},ltpvalue:{instance.ltpDf[\"ltp\"].loc[index]}')\n",
    "                peaks.append((index,df[0].loc[index]))\n",
    "            ridingPeak=False\n",
    "    return peaks\n",
    "findPeaks(instance.voldiff_buy) #example"
   ]
  },
  {
   "cell_type": "code",
   "execution_count": 6,
   "id": "056db057",
   "metadata": {},
   "outputs": [
    {
     "name": "stdout",
     "output_type": "stream",
     "text": [
      "peak ended at 2522,began at 2520,ltpvalue:7291.0\n",
      "peak ended at 2526,began at 2523,ltpvalue:7290.0\n",
      "peak ended at 3419,began at 3417,ltpvalue:7331.0\n",
      "peak ended at 3649,began at 3647,ltpvalue:7349.0\n",
      "peak ended at 3959,began at 3954,ltpvalue:7361.0\n",
      "peak ended at 4026,began at 4024,ltpvalue:7356.0\n",
      "peak ended at 4648,began at 4647,ltpvalue:7361.0\n",
      "peak ended at 11,began at 7,ltpvalue:7230.0\n",
      "peak ended at 2255,began at 2252,ltpvalue:7287.0\n",
      "peak ended at 2404,began at 2403,ltpvalue:7287.0\n",
      "peak ended at 2536,began at 2533,ltpvalue:7293.0\n",
      "peak ended at 2574,began at 2572,ltpvalue:7290.0\n",
      "peak ended at 3133,began at 3132,ltpvalue:7310.0\n",
      "peak ended at 3692,began at 3691,ltpvalue:7351.0\n",
      "peak ended at 4001,began at 3992,ltpvalue:7357.0\n",
      "peak ended at 4080,began at 4079,ltpvalue:7356.0\n",
      "peak ended at 5067,began at 5065,ltpvalue:7369.0\n"
     ]
    },
    {
     "data": {
      "text/plain": [
       "0"
      ]
     },
     "execution_count": 6,
     "metadata": {},
     "output_type": "execute_result"
    }
   ],
   "source": [
    "import pyqtgraph as pg\n",
    "import pandas as pd\n",
    "import numpy as np\n",
    "\n",
    "# ======== INITIALISATION ============\n",
    "app = pg.mkQApp()\n",
    "\n",
    "win_buy = pg.GraphicsLayoutWidget(title=\"Buy Heatmap & Trends\")\n",
    "win_buy.setBackground(\"white\")\n",
    "# CREATE PLOTS \n",
    "plot_buy = win_buy.addPlot(title=\"Buy Side\")\n",
    "plot_diff = win_buy.addPlot(title=\"DIFF\",row=1, col=0)\n",
    "plot_sell = win_buy.addPlot(title=\"SELL\",row=2, col=0)\n",
    "# link x axes for plots\n",
    "plot_buy.setXLink(plot_diff)\n",
    "plot_diff.setXLink(plot_sell)\n",
    "plot_sell.setYLink(plot_buy)\n",
    "win_buy.show()\n",
    "# ======== HELPER FUNCTIONS ========\n",
    "def addHeatMap(plot,data):\n",
    "    # Create a colormap with transparency\n",
    "    \"\"\"\n",
    "    colors = [\n",
    "        (1, (0, 255, 0, 200)), # Green with light alpha\n",
    "        (0, (255, 0, 0, 200))    # Red with light alpha\n",
    "    ]\n",
    "        \n",
    "    cmap = pg.ColorMap(pos=np.array([c[0] for c in colors]), color=np.array([c[1] for c in colors], dtype=np.ubyte))\n",
    "    img = pg.ImageItem(data)\n",
    "    img.setOpacity(.5)\n",
    "    lut = cmap.getLookupTable(nPts=256, alpha=True)  # Enable alpha\n",
    "    img.setLookupTable(lut)\n",
    "    plot.addItem(img)\n",
    "    return img\"\"\"\n",
    "    \n",
    "    lut = np.array([\n",
    "        [254,   79,   92,   200],  # 0: red (0,0)\n",
    "        [198, 158,   81,   200],  # 1: brown   (0,1)\n",
    "        [146, 194,   79,   200],  # 2: green (1,0)\n",
    "        [7,   235, 59,   200],  # 3: neon green  (1,1)\n",
    "    ], dtype=np.ubyte)\n",
    "\n",
    "    # Create the ImageItem\n",
    "    img = pg.ImageItem(data)\n",
    "\n",
    "    # Assign the LUT\n",
    "    img.setLookupTable(lut)\n",
    "\n",
    "    # No need for setOpacity()—alpha comes from LUT\n",
    "    plot.addItem(img)\n",
    "    return img\n",
    "def getXY(data: pd.Series):\n",
    "    if data is None or data.empty or data.shape == 0:\n",
    "        return [], []\n",
    "    if isinstance(data, pd.DataFrame):\n",
    "    # Take first column automatically\n",
    "        data = data.iloc[:, 0]\n",
    "    x = instance.ltpDf.index.to_numpy()\n",
    "    \n",
    "    # Convert to numeric if data is not already float or int\n",
    "    if data.dtypes not in [np.float64, np.int64]:  \n",
    "        y = pd.to_numeric(data, errors='coerce').to_numpy()\n",
    "    else:\n",
    "        y = data.to_numpy()\n",
    "\n",
    "    # Ensure x and y have the same length\n",
    "    min_len = min(len(x), len(y))\n",
    "    x, y = x[:min_len], y[:min_len]  \n",
    "\n",
    "    # Create mask and apply it safely\n",
    "    mask = ~np.isnan(y)\n",
    "    mask = mask[:min_len]  # Ensure mask has the same length as x and y\n",
    "\n",
    "    return x[mask], y[mask]  # Filter out NaN values        \n",
    "def addlinePlot(plot,linewidth,data:pd.Series,name,color=None):\n",
    "    x,y = getXY(data)\n",
    "    if color==None:\n",
    "        return plot.plot(x,y,pen=pg.mkPen( width=linewidth,name=name))\n",
    "    return plot.plot(x,y,pen=pg.mkPen(color=color, width=linewidth,name=name))\n",
    "def addScatterPlot(plot,size,data,color):\n",
    "    x = [x[0]for x in data]\n",
    "    y = instance.ltpDf['ltp'].loc[x]\n",
    "    scatter = pg.ScatterPlotItem(x=x, y=y, pen=pg.mkPen(color=color), symbol='x',\n",
    "                             brush=pg.mkBrush(0, 0, 255, 120), size=size)\n",
    "    return plot.addItem(scatter)\n",
    "\n",
    "\n",
    "# ===== CREATE ELEMENTS ========\n",
    "#BUY\n",
    "instance.hmap_buy = addHeatMap(plot_buy, instance.combineddf[0].to_numpy().T)\n",
    "instance.line_upper_1_buy = addlinePlot(plot_buy, linewidth=4, data=instance.lowHighMaxes[0], name='Buy Uptrend', color='#097969')\n",
    "instance.line_lower_1_buy = addlinePlot(plot_buy, linewidth=4, data=instance.HighlowMaxes[0], name='Buy Downtrend', color='#fbd604')\n",
    "instance.line_ltp_buy = addlinePlot(plot_buy, linewidth=2, data=instance.ltpDf['ltp'], name='LTP', color=(0, 0, 255))\n",
    "#SELL\n",
    "instance.hmap_sell = addHeatMap(plot_sell, instance.combineddf[1].to_numpy().T)\n",
    "instance.line_upper_1_sell = addlinePlot(plot_sell, linewidth=4, data=instance.lowHighMaxes[1], name='Sell Uptrend', color='#097969')\n",
    "instance.line_lower_1_sell = addlinePlot(plot_sell, linewidth=4, data=instance.HighlowMaxes[1], name='Sell Downtrend', color='#fbd604')\n",
    "instance.line_ltp_sell = addlinePlot(plot_sell, linewidth=2, data=instance.ltpDf['ltp'], name='LTP', color=(0, 0, 255))\n",
    "#DIFF\n",
    "instance.vol_diff_50 = addlinePlot(plot_diff, linewidth=4, data=instance.voldiff_buy, name='VolDiff_buy', color='#fdd750')\n",
    "instance.vol_diff_20 = addlinePlot(plot_diff, linewidth=4, data=instance.voldiff_sell, name='VolDiff_sell', color='#097969')\n",
    "instance.scatter_buy = addScatterPlot(plot_buy,15,findPeaks(instance.voldiff_buy),color=\"#0BF05BFF\")\n",
    "instance.scatter_sell = addScatterPlot(plot_sell,15,findPeaks(instance.voldiff_sell),color=\"#F00B0BFF\")\n",
    "# ======== UPDATE VALUES ========\n",
    "#heatmap\n",
    "instance.hmap_buy.setImage(instance.combineddf[0].to_numpy().T, autoLevels=False)\n",
    "instance.hmap_sell.setImage(instance.combineddf[1].to_numpy().T, autoLevels=False)\n",
    "min_ltp = instance.ltpDf['ltp'].min()\n",
    "n = len(instance.ltpDf)\n",
    "m = len(instance.aggDf)\n",
    "instance.hmap_buy.setRect(0, min_ltp, n, m)\n",
    "instance.hmap_sell.setRect(0, min_ltp, n, m)\n",
    "\n",
    "#ltp\n",
    "x,y_ltp = getXY(instance.ltpDf['ltp'])\n",
    "instance.line_ltp_buy.setData(x,y_ltp)\n",
    "instance.line_ltp_sell.setData(x,y_ltp)\n",
    "#voldiff buy\n",
    "x,y = getXY(instance.voldiff_buy[0])\n",
    "instance.vol_diff_50.setData(x, y)\n",
    "#voldiff sell\n",
    "x,y = getXY(instance.voldiff_sell[0])\n",
    "instance.vol_diff_20.setData(x, y)\n",
    "\n",
    "# ======= SETUP ==========\n",
    "plot_diff.showGrid(x=True, y=True)\n",
    "plot_buy.showGrid(x=True,y=True)\n",
    "plot_sell.showGrid(x=True,y=True)\n",
    "app.exec()\n"
   ]
  },
  {
   "cell_type": "markdown",
   "id": "41fa985e",
   "metadata": {},
   "source": [
    "# Premium Absorption"
   ]
  },
  {
   "cell_type": "code",
   "execution_count": 18,
   "id": "fa17fa38",
   "metadata": {},
   "outputs": [
    {
     "data": {
      "text/plain": [
       "np.float64(nan)"
      ]
     },
     "execution_count": 18,
     "metadata": {},
     "output_type": "execute_result"
    }
   ],
   "source": [
    "instance.combineddf[0].iloc[:,25].loc[7374]"
   ]
  },
  {
   "cell_type": "code",
   "execution_count": 11,
   "id": "3342cd43",
   "metadata": {},
   "outputs": [
    {
     "data": {
      "text/plain": [
       "'buy-vol'"
      ]
     },
     "execution_count": 11,
     "metadata": {},
     "output_type": "execute_result"
    }
   ],
   "source": [
    "instance.combineddf[0].columns[6]"
   ]
  },
  {
   "cell_type": "code",
   "execution_count": null,
   "id": "46e69e4d",
   "metadata": {},
   "outputs": [],
   "source": []
  }
 ],
 "metadata": {
  "kernelspec": {
   "display_name": ".venv",
   "language": "python",
   "name": "python3"
  },
  "language_info": {
   "codemirror_mode": {
    "name": "ipython",
    "version": 3
   },
   "file_extension": ".py",
   "mimetype": "text/x-python",
   "name": "python",
   "nbconvert_exporter": "python",
   "pygments_lexer": "ipython3",
   "version": "3.11.9"
  }
 },
 "nbformat": 4,
 "nbformat_minor": 5
}
