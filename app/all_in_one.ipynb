{
 "cells": [
  {
   "cell_type": "code",
   "execution_count": 1,
   "id": "26071fad",
   "metadata": {},
   "outputs": [
    {
     "name": "stdout",
     "output_type": "stream",
     "text": [
      "[INFO] loaded data into memory for simulation\n"
     ]
    },
    {
     "name": "stderr",
     "output_type": "stream",
     "text": [
      "/Users/gurusai/programming/STONKS/BackTestingEngine/app/StockAnalyser.py:103: FutureWarning: The behavior of DataFrame concatenation with empty or all-NA entries is deprecated. In a future version, this will no longer exclude empty or all-NA columns when determining the result dtypes. To retain the old behavior, exclude the relevant entries before the concat operation.\n",
      "  self.ltpDf = pd.concat([self.ltpDf, pd.DataFrame(new_record)], ignore_index=True)\n"
     ]
    }
   ],
   "source": [
    "SIMULATION_DATE = \"2025-07-15\"\n",
    "\n",
    "from config import r,STOCKS,FILEPATH,s3,EXCHANGE\n",
    "import os\n",
    "def download_file():\n",
    "    if not os.path.exists(f'{FILEPATH}/{EXCHANGE}/{STOCKS[0]}/{SIMULATION_DATE}.csv'):\n",
    "        try:\n",
    "            s3.download_file(Bucket='kite', Key=f'{EXCHANGE}/{STOCKS[0]}/{SIMULATION_DATE}.csv', Filename=f'{FILEPATH}/{EXCHANGE}/{STOCKS[0]}/{SIMULATION_DATE}.csv')\n",
    "            print(f\"[MAIN] Downloaded {EXCHANGE}:{STOCKS[0]} for {SIMULATION_DATE}\")\n",
    "        except Exception as e:\n",
    "            raise Exception(\"file not found,choose another date.\")\n",
    "download_file()\n",
    "\n",
    "from simulator import get_all_tick_data\n",
    "df = get_all_tick_data(SIMULATION_DATE)\n",
    "\n",
    "from StockAnalyser import Cumulative_Support\n",
    "instance = Cumulative_Support()\n",
    "import pandas as pd\n",
    "for row in df.rolling(1):\n",
    "    instance.parse(row.iloc[0].to_dict())\n"
   ]
  },
  {
   "cell_type": "code",
   "execution_count": null,
   "id": "e9ea9454",
   "metadata": {},
   "outputs": [
    {
     "name": "stderr",
     "output_type": "stream",
     "text": [
      "2025-07-24 01:02:08.500 python[28734:36320076] +[IMKClient subclass]: chose IMKClient_Legacy\n",
      "2025-07-24 01:02:08.500 python[28734:36320076] +[IMKInputSession subclass]: chose IMKInputSession_Legacy\n"
     ]
    },
    {
     "data": {
      "text/plain": [
       "0"
      ]
     },
     "execution_count": 2,
     "metadata": {},
     "output_type": "execute_result"
    }
   ],
   "source": [
    "import pyqtgraph as pg\n",
    "import pandas as pd\n",
    "import numpy as np\n",
    "\n",
    "\n",
    "app = pg.mkQApp()\n",
    "temp = instance.combineddf[1].to_numpy()+4*instance.combineddf[0].to_numpy()\n",
    "win_buy = pg.GraphicsLayoutWidget(title=\"Buy Heatmap & Trends\")\n",
    "win_buy.setBackground(\"white\")\n",
    "# ======== CREATE PLOTS =======\n",
    "plot_buy = win_buy.addPlot(title=\"Buy Side\")\n",
    "plot_diff = win_buy.addPlot(title=\"DIFF\",row=1, col=0)\n",
    "win_buy.show()\n",
    "plot_buy.setXLink(plot_diff)\n",
    "# ======== HELPER FUNCTIONS =======\n",
    "def addHeatMap(plot,data):\n",
    "    # Create a colormap with transparency\n",
    "    \"\"\"\n",
    "    colors = [\n",
    "        (1, (0, 255, 0, 200)), # Green with light alpha\n",
    "        (0, (255, 0, 0, 200))    # Red with light alpha\n",
    "    ]\n",
    "        \n",
    "    cmap = pg.ColorMap(pos=np.array([c[0] for c in colors]), color=np.array([c[1] for c in colors], dtype=np.ubyte))\n",
    "    img = pg.ImageItem(data)\n",
    "    img.setOpacity(.5)\n",
    "    lut = cmap.getLookupTable(nPts=256, alpha=True)  # Enable alpha\n",
    "    img.setLookupTable(lut)\n",
    "    plot.addItem(img)\n",
    "    return img\"\"\"\n",
    "    lut = np.array([\n",
    "        #   R,   G,   B,   A\n",
    "        [255,   0,   0, 170],   #  0: Red           → sell: top neg, bottom neg | buy: top neg, bottom neg      buy: red         sell: red\n",
    "        [  0, 114, 178, 170],   #  1: Blue          → sell: top neg, bottom pos | buy: top neg, bottom neg      buy: brown       sell: red\n",
    "        [230, 159,   0, 170],   #  2: Orange        → sell: top pos, bottom neg | buy: top neg, bottom neg      buy: green       sell: red\n",
    "        [ 86, 180, 233, 170],   #  3: Sky Blue      → sell: top pos, bottom pos | buy: top neg, bottom neg      buy: neon green  sell: red\n",
    "        [  0, 158, 115, 170],   #  4: Bluish Green  → sell: top neg, bottom neg | buy: top neg, bottom pos      buy: red         sell: brown\n",
    "        [204, 121, 167, 170],   #  5: Purple        → sell: top neg, bottom pos | buy: top neg, bottom pos      buy: brown       sell: brown\n",
    "        [240, 228,  66, 170],   #  6: Yellow        → sell: top pos, bottom neg | buy: top neg, bottom pos      buy: green       sell: brown\n",
    "        [139,  69,  19, 170],   #  7: Brown         → sell: top pos, bottom pos | buy: top neg, bottom pos      buy: neon        sell: brown\n",
    "        [255, 105, 180, 170],   #  8: Pink          → sell: top neg, bottom neg | buy: top pos, bottom neg      buy: red         sell: green\n",
    "        [ 27,  94,  32, 170],   #  9: Dark Green    → sell: top neg, bottom pos | buy: top pos, bottom neg      buy: brown       sell: green\n",
    "        [  0,   0, 128, 170],   # 10: Navy          → sell: top pos, bottom neg | buy: top pos, bottom neg      buy: green       sell: green\n",
    "        [128,   0,   0, 170],   # 11: Maroon        → sell: top pos, bottom pos | buy: top pos, bottom neg      buy: neon green  sell: green\n",
    "        [  0, 128, 128, 170],   # 12: Teal          → sell: top neg, bottom neg | buy: top pos, bottom pos      buy: red         sell: neon green\n",
    "        [245, 245, 245, 170],   # 13: Off-White     → sell: top neg, bottom pos | buy: top pos, bottom pos      buy: brown       sell: neon green\n",
    "        [119, 119, 119, 170],   # 14: Gray          → sell: top pos, bottom neg | buy: top pos, bottom pos      buy: green       sell: neon green\n",
    "        [ 57, 255,  20, 170],   # 15: Neon Green    → sell: top pos, bottom pos | buy: top pos, bottom pos      buy: neon green  sell: neon green\n",
    "    ], dtype=np.ubyte)\n",
    "    # Create the ImageItem\n",
    "    img = pg.ImageItem(data)\n",
    "\n",
    "    # Assign the LUT\n",
    "    img.setLookupTable(lut)\n",
    "\n",
    "    # No need for setOpacity()—alpha comes from LUT\n",
    "    plot.addItem(img)\n",
    "    return img\n",
    "def getXY(data: pd.Series):\n",
    "    if data is None or data.empty or data.shape == 0:\n",
    "        return [], []\n",
    "    if isinstance(data, pd.DataFrame):\n",
    "    # Take first column automatically\n",
    "        data = data.iloc[:, 0]\n",
    "    x = instance.ltpDf.index.to_numpy()\n",
    "    \n",
    "    # Convert to numeric if data is not already float or int\n",
    "    if data.dtypes not in [np.float64, np.int64]:  \n",
    "        y = pd.to_numeric(data, errors='coerce').to_numpy()\n",
    "    else:\n",
    "        y = data.to_numpy()\n",
    "\n",
    "    # Ensure x and y have the same length\n",
    "    min_len = min(len(x), len(y))\n",
    "    x, y = x[:min_len], y[:min_len]  \n",
    "\n",
    "    # Create mask and apply it safely\n",
    "    mask = ~np.isnan(y)\n",
    "    mask = mask[:min_len]  # Ensure mask has the same length as x and y\n",
    "\n",
    "    return x[mask], y[mask]  # Filter out NaN values        \n",
    "def addlinePlot(plot,linewidth,data:pd.Series,name,color=None):\n",
    "    x,y = getXY(data)\n",
    "    if color==None:\n",
    "        return plot.plot(x,y,pen=pg.mkPen( width=linewidth,name=name))\n",
    "    return plot.plot(x,y,pen=pg.mkPen(color=color, width=linewidth,name=name))\n",
    "\n",
    "# ======= CREATE ELEMENTS =========\n",
    "#BUY\n",
    "instance.hmap_buy = addHeatMap(plot_buy, temp.T)\n",
    "instance.line_upper_1_buy = addlinePlot(plot_buy, linewidth=4, data=instance.lowHighMaxes[0], name='Buy Uptrend', color='#097969')\n",
    "instance.line_lower_1_buy = addlinePlot(plot_buy, linewidth=4, data=instance.HighlowMaxes[0], name='Buy Downtrend', color='#fbd604')\n",
    "instance.line_ltp_buy = addlinePlot(plot_buy, linewidth=2, data=instance.ltpDf['ltp'], name='LTP', color=(0, 0, 255))\n",
    "#DIFF\n",
    "instance.vol_diff_50 = addlinePlot(plot_diff, linewidth=4, data=instance.voldiff_buy, name='VolDiff_buy', color='#fdd750')\n",
    "instance.vol_diff_20 = addlinePlot(plot_diff, linewidth=4, data=instance.voldiff_sell, name='VolDiff_sell', color='#097969')\n",
    "\n",
    "# ======== UPDATE VALUES ========\n",
    "#heatmap\n",
    "instance.hmap_buy.setImage(temp.T, autoLevels=False)\n",
    "min_ltp = instance.ltpDf['ltp'].min()\n",
    "n = len(instance.ltpDf)\n",
    "m = len(instance.aggDf)\n",
    "instance.hmap_buy.setRect(0, min_ltp, n, m)\n",
    "#ltp\n",
    "x,y_ltp = getXY(instance.ltpDf['ltp'])\n",
    "instance.line_ltp_buy.setData(x,y_ltp)\n",
    "\n",
    "#DIFF\n",
    "x,y = getXY(instance.voldiff_buy)\n",
    "instance.vol_diff_50.setData(x,y)\n",
    "x,y = getXY(instance.voldiff_sell)\n",
    "instance.vol_diff_20.setData(x,y)\n",
    "\n",
    "app.exec()\n"
   ]
  },
  {
   "cell_type": "code",
   "execution_count": null,
   "id": "d405bcac",
   "metadata": {},
   "outputs": [],
   "source": []
  }
 ],
 "metadata": {
  "kernelspec": {
   "display_name": ".venv",
   "language": "python",
   "name": "python3"
  },
  "language_info": {
   "codemirror_mode": {
    "name": "ipython",
    "version": 3
   },
   "file_extension": ".py",
   "mimetype": "text/x-python",
   "name": "python",
   "nbconvert_exporter": "python",
   "pygments_lexer": "ipython3",
   "version": "3.11.9"
  }
 },
 "nbformat": 4,
 "nbformat_minor": 5
}
